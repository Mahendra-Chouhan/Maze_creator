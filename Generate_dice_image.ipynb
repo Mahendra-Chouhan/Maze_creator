{
 "cells": [
  {
   "cell_type": "markdown",
   "metadata": {},
   "source": [
    "# This file is been developed for generate the DIce images "
   ]
  },
  {
   "cell_type": "code",
   "execution_count": 1,
   "metadata": {
    "collapsed": true
   },
   "outputs": [],
   "source": [
    "import numpy as np\n",
    "from PIL import Image\n",
    "%matplotlib inline\n",
    "from matplotlib.pyplot import imshow"
   ]
  },
  {
   "cell_type": "code",
   "execution_count": 2,
   "metadata": {},
   "outputs": [],
   "source": [
    "def _generate_randaom_array(generator_number, dice_width = 5, dice_length = 5):\n",
    "    row = []\n",
    "    column = []\n",
    "    array = set()\n",
    "    start = 0\n",
    "    if generator_number == 1:\n",
    "        row.extend([2])\n",
    "        column.extend([2])\n",
    "        \n",
    "    if generator_number == 2:\n",
    "        row.extend([1, 3])\n",
    "        column.extend([1, 3])\n",
    "                      \n",
    "    if generator_number == 3:\n",
    "        row.extend([1, 2, 3])\n",
    "        column.extend([1, 2, 3])\n",
    "                      \n",
    "    if generator_number == 4:\n",
    "        row.extend([1, 1, 3, 3])\n",
    "        column.extend([1, 3, 1, 3])                          \n",
    "                      \n",
    "    if generator_number == 5:\n",
    "        row.extend([1, 1, 3, 2, 3])\n",
    "        column.extend([1, 3, 1, 2, 3])                          \n",
    "                      \n",
    "    if generator_number == 6:\n",
    "        row.extend([1, 1, 2, 2, 3, 3])\n",
    "        column.extend([1, 3, 1, 3, 1, 3])                          \n",
    "    return row, column"
   ]
  },
  {
   "cell_type": "code",
   "execution_count": 3,
   "metadata": {
    "collapsed": true
   },
   "outputs": [],
   "source": [
    "def image_generator(dice_number):\n",
    "    print(dice_number)\n",
    "    a = np.ones(shape=(5,5))\n",
    "    row, column = _generate_randaom_array(dice_number)\n",
    "    a[row, column] = 0\n",
    "    return a"
   ]
  },
  {
   "cell_type": "code",
   "execution_count": 4,
   "metadata": {
    "collapsed": true
   },
   "outputs": [],
   "source": [
    "def dice_appened(dice_number):\n",
    "    dice_face = image_generator(dice_number)\n",
    "    main_face = np.zeros(shape = (10,10))\n",
    "    x,y = np.random.randint(0,5), np.random.randint(0,5)\n",
    "    main_face[x:x+dice_face.shape[0], y:y+dice_face.shape[1]] = dice_face\n",
    "    return main_face\n"
   ]
  },
  {
   "cell_type": "code",
   "execution_count": 5,
   "metadata": {},
   "outputs": [
    {
     "name": "stdout",
     "output_type": "stream",
     "text": [
      "6\n"
     ]
    },
    {
     "data": {
      "text/plain": [
       "<matplotlib.image.AxesImage at 0x7fe3f31143c8>"
      ]
     },
     "execution_count": 5,
     "metadata": {},
     "output_type": "execute_result"
    },
    {
     "data": {
      "image/png": "[encoded data removed]",
      "text/plain": [
       "<Figure size 432x288 with 1 Axes>"
      ]
     },
     "metadata": {},
     "output_type": "display_data"
    }
   ],
   "source": [
    "image = dice_appened(6)\n",
    "img = Image.fromarray( image )       # Create a PIL image\n",
    "imshow(np.asarray(img))"
   ]
  },
  {
   "cell_type": "code",
   "execution_count": null,
   "metadata": {
    "collapsed": true
   },
   "outputs": [],
   "source": []
  },
  {
   "cell_type": "code",
   "execution_count": null,
   "metadata": {
    "collapsed": true
   },
   "outputs": [],
   "source": []
  }
 ],
 "metadata": {
  "kernelspec": {
   "display_name": "Python 3",
   "language": "python",
   "name": "python3"
  },
  "language_info": {
   "codemirror_mode": {
    "name": "ipython",
    "version": 3
   },
   "file_extension": ".py",
   "mimetype": "text/x-python",
   "name": "python",
   "nbconvert_exporter": "python",
   "pygments_lexer": "ipython3",
   "version": "3.6.3"
  }
 },
 "nbformat": 4,
 "nbformat_minor": 2
}
